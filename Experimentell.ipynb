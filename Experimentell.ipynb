{
 "cells": [
  {
   "cell_type": "markdown",
   "id": "a4a2c8fb",
   "metadata": {},
   "source": [
    "# Vergleich zwischen ZAMG Wetterstationsdaten und KrigR-Daten (ERA5-Land, monatl.)\n",
    "\n",
    "\n",
    "### <font color=red>**DISCLAIMER**</font>\n",
    "Die Daten, welche via KrigR in R herunterskaliert wurden, wurden nicht weiter validiert. Hier wird lediglich der \"rohe\" Output der Daten mit den Wetterstationsdaten von ZAMG DataHub visualisiert!"
   ]
  },
  {
   "cell_type": "markdown",
   "id": "3f2cca89",
   "metadata": {},
   "source": [
    "## Setup:\n",
    "\n",
    "Um dieses Notebook erfolgreich ausführen zu können, sollten die folgenden Vorbedingungen erfüllt sein:\n",
    "\n",
    "- Erstellen und Aktivieren eines Conda-Environments: \n",
    "    - `conda create -c conda-forge --name ENVIRONMENT-NAME python=3.8 mamba`\n",
    "    - `conda activate ENVIRONMENT-NAME`<br><br>\n",
    "    \n",
    "- Installieren des **geospatial** Packages: \n",
    "    - `mamba install -c conda-forge geospatial`\n",
    "\n",
    "Anschließend kann man mit dem Befehl `jupyter notebook .` den Jupyter Notebook Client lokal öffnen und in einem neuen Notebook den Code ausführen.\n",
    "\n",
    "## Codeausführung:\n",
    "\n",
    "### Rastermap:\n",
    "Als einfachste Lösung muss man an zwei Stellen im Code das gewünschte .tif-File eingeben. In den Kommentaren wurde die Stellen kenntlich gemacht. <br>Zu finden sind die .tif-Files unter dem folgenden Github Repository: https://github.com/AnninaDelacour/bachelor\n",
    "\n",
    "### Heatmap: \n",
    "Die Heatmap braucht keine weiteren Einstellungen. Hier kann man via Datepicker das Datum auswählen :)"
   ]
  },
  {
   "cell_type": "markdown",
   "id": "5ba0f1bf",
   "metadata": {},
   "source": [
    "<hr>"
   ]
  },
  {
   "cell_type": "markdown",
   "id": "bcec326b",
   "metadata": {},
   "source": [
    "# Heatmap + KrigR-Rasterdaten 2013"
   ]
  },
  {
   "cell_type": "markdown",
   "id": "2563c350",
   "metadata": {},
   "source": [
    "Da die hier verwendete Library `Leafmap` leider nicht die nötige Funktionalität aufweist - und die Handhabung des Codes so simpel wie möglich gehalten werden soll -, ist für den Zeitpunkt des Erstellens des Notebooks die einfachste Lösung, die generierten .tif-Files zum Copy+Paste zur Verfügung zu stellen.<br>\n",
    "D.h. um einen Vergleich zu ziehen mit der Heatmap (Wetterstationsdatenpunkte, daher sehr stark konzentriert auf einem Standort), muss man manuell in der Raster-Map die .tif-Files austauschen.<br>"
   ]
  },
  {
   "cell_type": "code",
   "execution_count": 132,
   "id": "739aee89",
   "metadata": {},
   "outputs": [],
   "source": [
    "import numpy as np\n",
    "import pandas as pd\n",
    "import folium\n",
    "import matplotlib.pyplot as plt\n",
    "from datetime import datetime, timedelta\n",
    "import leafmap.leafmap as leafmap\n",
    "import rasterio\n",
    "from folium.plugins import HeatMap\n",
    "from IPython.display import display\n",
    "import branca.colormap as cm"
   ]
  },
  {
   "cell_type": "code",
   "execution_count": 145,
   "id": "c61262e2",
   "metadata": {},
   "outputs": [],
   "source": [
    "# ------ Start Raster Map ------ #\n",
    "\n",
    "# Open the GeoTIFF file using rasterio - PUT HERE THE FIRST .tif-FILE FROM GITHUB: https://github.com/AnninaDelacour/bachelor\n",
    "with rasterio.open('https://github.com/AnninaDelacour/bachelor/blob/main/wspeed_2013/wind_speed_aug_2013.tif?raw=true') as src:\n",
    "    # Read the data from the GeoTIFF file\n",
    "    data = src.read()\n",
    "    # Get the affine transformation matrix for the GeoTIFF\n",
    "    transform = src.transform\n",
    "    # Get the CRS for the GeoTIFF\n",
    "    crs = src.crs\n",
    "\n",
    "# Create a folium map\n",
    "r_m = leafmap.Map(location=[47.1133, 11.4147], zoom_start=8.5)\n",
    "\n",
    "colors = ['#9e0142', '#cb334d', '#f57245', '#fdbf6f', '#fff2aa', '#eaf79e', '#a4daa4', '#54aead', '#4d65ad', '#5e4fa2']\n",
    "vmin = 0\n",
    "vmax = 32\n",
    "\n",
    "r_m.add_colorbar(colors=colors, vmin=vmin, vmax=vmax)\n",
    "\n",
    "# ADD HERE AGAIN THE (RAW) LINK TO THE .tif-FILE\n",
    "r_m.add_raster('https://github.com/AnninaDelacour/bachelor/blob/main/wspeed_2013/wind_speed_aug_2013.tif?raw=true', layer_name=\"Wind\", palette=\"Spectral_r\")\n",
    "\n",
    "# ------ End Raster Map ------ #"
   ]
  },
  {
   "cell_type": "code",
   "execution_count": 146,
   "id": "4559fe7e",
   "metadata": {},
   "outputs": [],
   "source": [
    "# ------ Start Heatmap ------ #\n",
    "\n",
    "df = pd.read_csv(\"/Users/annina/Documents/FH/BachelorThesis/R_Files/monatl_wdata_2013.csv\")\n",
    "\n",
    "# Create a new column with the month and year in the format 'YYYY-MM'\n",
    "df['time'] = pd.to_datetime(df['time'])\n",
    "df['month_year'] = df['time'].apply(lambda x: x.strftime('%Y-%m'))\n",
    "\n",
    "# Create a folium map object\n",
    "m = folium.Map(location=[47.1133, 11.4147], zoom_start=8.5)\n",
    "\n",
    "colors = ['#9e0142', '#cb334d', '#f57245', '#fdbf6f', '#fff2aa', '#eaf79e', \n",
    "              '#a4daa4', '#54aead', '#4d65ad', '#5e4fa2']\n",
    "vmin = 0.1\n",
    "vmax = 10.2\n",
    "    \n",
    "colormap = cm.LinearColormap(colors=colors, vmin=vmin, vmax=vmax, \n",
    "                                 caption='Windgeschwindigkeit (Monatsmittel) in m/s')\n",
    "    \n",
    "m.add_child(colormap)\n",
    "    \n",
    "svg_style = '<style>svg {background-color: white;}</style>'\n",
    "m.get_root().header.add_child(folium.Element(svg_style))\n",
    "\n",
    "# Define a function that will be called when a new month is selected from the dropdown menu\n",
    "def show_month_heatmap(month):\n",
    "    # Filter the dataframe to only include data for the selected month\n",
    "    df_month = df.query(\"month_year == @month\")\n",
    "    # Create a new heatmap layer using the filtered data\n",
    "    heatmap = HeatMap(data=df_month[['Latitude', 'Longitude', 'vv']].values.tolist(),\n",
    "                      name = month,\n",
    "                      overlay = True,\n",
    "                      control = True,\n",
    "                      show = True,\n",
    "                      radius = 30,\n",
    "                      blur = 10,\n",
    "                      gradient = color_dict,\n",
    "                      )\n",
    "    heatmap.add_to(m)\n",
    "    \n",
    "    \n",
    "    # Show the map with the new heatmap layer\n",
    "    display(m)\n",
    "\n",
    "# ------ End Heatmap ------ #"
   ]
  },
  {
   "cell_type": "markdown",
   "id": "781391a0",
   "metadata": {},
   "source": [
    "<hr>"
   ]
  },
  {
   "cell_type": "markdown",
   "id": "ead22d2c",
   "metadata": {},
   "source": [
    "# Raster Map:\n",
    "\n",
    "## KrigR-Daten - Windgeschwindigkeit in m/s"
   ]
  },
  {
   "cell_type": "markdown",
   "id": "4a81d6e8",
   "metadata": {},
   "source": [
    "# How to use the map:\n",
    "\n",
    "<details>\n",
    "<summary>Klick hier für die Anleitung:</summary>\n",
    "\n",
    "![HowTo](https://bachelor.blob.core.windows.net/newcontainer/rastermap.gif \"How To:\")\n",
    "</details>"
   ]
  },
  {
   "cell_type": "code",
   "execution_count": 147,
   "id": "0951e2db",
   "metadata": {},
   "outputs": [
    {
     "data": {
      "application/vnd.jupyter.widget-view+json": {
       "model_id": "844e20294d1341cebf81132be4df6330",
       "version_major": 2,
       "version_minor": 0
      },
      "text/plain": [
       "Map(center=[47.14986056251128, 11.483193678511313], controls=(ZoomControl(options=['position', 'zoom_in_text',…"
      ]
     },
     "metadata": {},
     "output_type": "display_data"
    }
   ],
   "source": [
    "# show the raster map first\n",
    "display(r_m)"
   ]
  },
  {
   "cell_type": "markdown",
   "id": "3f13a28b",
   "metadata": {},
   "source": [
    "# Heatmap"
   ]
  },
  {
   "cell_type": "code",
   "execution_count": 148,
   "id": "121e0edb",
   "metadata": {
    "scrolled": false
   },
   "outputs": [
    {
     "data": {
      "application/vnd.jupyter.widget-view+json": {
       "model_id": "e29f9e0a730441b78dd180e673e4e538",
       "version_major": 2,
       "version_minor": 0
      },
      "text/plain": [
       "interactive(children=(Dropdown(description='month', options=('2013-01', '2013-02', '2013-03', '2013-04', '2013…"
      ]
     },
     "metadata": {},
     "output_type": "display_data"
    },
    {
     "data": {
      "text/plain": [
       "<function __main__.show_month_heatmap(month)>"
      ]
     },
     "execution_count": 148,
     "metadata": {},
     "output_type": "execute_result"
    }
   ],
   "source": [
    "# show the heatmap second; create the dropdown menu for selecting a month\n",
    "interact(show_month_heatmap, month=df['month_year'].unique())"
   ]
  }
 ],
 "metadata": {
  "celltoolbar": "Raw Cell Format",
  "kernelspec": {
   "display_name": "Python 3",
   "language": "python",
   "name": "python3"
  },
  "language_info": {
   "codemirror_mode": {
    "name": "ipython",
    "version": 3
   },
   "file_extension": ".py",
   "mimetype": "text/x-python",
   "name": "python",
   "nbconvert_exporter": "python",
   "pygments_lexer": "ipython3",
   "version": "3.10.9 (main, Dec 15 2022, 17:11:09) [Clang 14.0.0 (clang-1400.0.29.202)]"
  },
  "vscode": {
   "interpreter": {
    "hash": "b0fa6594d8f4cbf19f97940f81e996739fb7646882a419484c72d19e05852a7e"
   }
  }
 },
 "nbformat": 4,
 "nbformat_minor": 5
}
